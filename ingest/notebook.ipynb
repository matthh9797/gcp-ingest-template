{
 "cells": [
  {
   "attachments": {},
   "cell_type": "markdown",
   "metadata": {},
   "source": [
    "# Ingest Data into GCP \n",
    "## Local Development Notebook"
   ]
  },
  {
   "cell_type": "code",
   "execution_count": 5,
   "metadata": {},
   "outputs": [],
   "source": [
    "from utils import dict_from_yaml\n",
    "from ingest import IngestYahoo"
   ]
  },
  {
   "attachments": {},
   "cell_type": "markdown",
   "metadata": {},
   "source": [
    "### Check out Api"
   ]
  },
  {
   "attachments": {},
   "cell_type": "markdown",
   "metadata": {},
   "source": [
    "### Run the Process Locally"
   ]
  },
  {
   "cell_type": "code",
   "execution_count": 6,
   "metadata": {},
   "outputs": [],
   "source": [
    "config = dict_from_yaml('config.yaml')\n",
    "ingest_yahoo = IngestYahoo(config)"
   ]
  },
  {
   "attachments": {},
   "cell_type": "markdown",
   "metadata": {},
   "source": [
    "### Check Config & Method Help"
   ]
  },
  {
   "cell_type": "code",
   "execution_count": 7,
   "metadata": {},
   "outputs": [
    {
     "data": {
      "text/plain": [
       "{'env': 'dev',\n",
       " 'api': {'name': 'yfinance',\n",
       "  'tables': {'stock_history': {'tickers': ['MSFT', 'GOOGL', 'AAPL'],\n",
       "    'period': '5d'}}},\n",
       " 'bigquery': {'dest_dataset_id': 'yfinance_raw',\n",
       "  'key_file': 'data-science-on-gcp-323609-ec18149ed324.json'}}"
      ]
     },
     "execution_count": 7,
     "metadata": {},
     "output_type": "execute_result"
    }
   ],
   "source": [
    "ingest_yahoo.config"
   ]
  },
  {
   "cell_type": "code",
   "execution_count": null,
   "metadata": {},
   "outputs": [],
   "source": [
    "help(ingest_yahoo.run)"
   ]
  },
  {
   "attachments": {},
   "cell_type": "markdown",
   "metadata": {},
   "source": [
    "Extracting the data creates a dictionary of dataframes with the raw format that is given by the api."
   ]
  },
  {
   "cell_type": "code",
   "execution_count": 8,
   "metadata": {},
   "outputs": [
    {
     "data": {
      "text/html": [
       "<div>\n",
       "<style scoped>\n",
       "    .dataframe tbody tr th:only-of-type {\n",
       "        vertical-align: middle;\n",
       "    }\n",
       "\n",
       "    .dataframe tbody tr th {\n",
       "        vertical-align: top;\n",
       "    }\n",
       "\n",
       "    .dataframe thead th {\n",
       "        text-align: right;\n",
       "    }\n",
       "</style>\n",
       "<table border=\"1\" class=\"dataframe\">\n",
       "  <thead>\n",
       "    <tr style=\"text-align: right;\">\n",
       "      <th></th>\n",
       "      <th>Open</th>\n",
       "      <th>High</th>\n",
       "      <th>Low</th>\n",
       "      <th>Close</th>\n",
       "      <th>Volume</th>\n",
       "      <th>Dividends</th>\n",
       "      <th>Stock Splits</th>\n",
       "      <th>ticker</th>\n",
       "    </tr>\n",
       "    <tr>\n",
       "      <th>Date</th>\n",
       "      <th></th>\n",
       "      <th></th>\n",
       "      <th></th>\n",
       "      <th></th>\n",
       "      <th></th>\n",
       "      <th></th>\n",
       "      <th></th>\n",
       "      <th></th>\n",
       "    </tr>\n",
       "  </thead>\n",
       "  <tbody>\n",
       "    <tr>\n",
       "      <th>2023-04-10 00:00:00-04:00</th>\n",
       "      <td>289.209991</td>\n",
       "      <td>289.600006</td>\n",
       "      <td>284.709991</td>\n",
       "      <td>289.390015</td>\n",
       "      <td>23103000</td>\n",
       "      <td>0.0</td>\n",
       "      <td>0.0</td>\n",
       "      <td>MSFT</td>\n",
       "    </tr>\n",
       "    <tr>\n",
       "      <th>2023-04-11 00:00:00-04:00</th>\n",
       "      <td>285.750000</td>\n",
       "      <td>285.980011</td>\n",
       "      <td>281.640015</td>\n",
       "      <td>282.829987</td>\n",
       "      <td>27276600</td>\n",
       "      <td>0.0</td>\n",
       "      <td>0.0</td>\n",
       "      <td>MSFT</td>\n",
       "    </tr>\n",
       "    <tr>\n",
       "      <th>2023-04-12 00:00:00-04:00</th>\n",
       "      <td>284.790009</td>\n",
       "      <td>287.010010</td>\n",
       "      <td>281.959991</td>\n",
       "      <td>283.489990</td>\n",
       "      <td>27403400</td>\n",
       "      <td>0.0</td>\n",
       "      <td>0.0</td>\n",
       "      <td>MSFT</td>\n",
       "    </tr>\n",
       "    <tr>\n",
       "      <th>2023-04-13 00:00:00-04:00</th>\n",
       "      <td>283.589996</td>\n",
       "      <td>289.899994</td>\n",
       "      <td>283.170013</td>\n",
       "      <td>289.839996</td>\n",
       "      <td>24222700</td>\n",
       "      <td>0.0</td>\n",
       "      <td>0.0</td>\n",
       "      <td>MSFT</td>\n",
       "    </tr>\n",
       "    <tr>\n",
       "      <th>2023-04-14 00:00:00-04:00</th>\n",
       "      <td>287.000000</td>\n",
       "      <td>288.480011</td>\n",
       "      <td>283.690002</td>\n",
       "      <td>286.140015</td>\n",
       "      <td>20973900</td>\n",
       "      <td>0.0</td>\n",
       "      <td>0.0</td>\n",
       "      <td>MSFT</td>\n",
       "    </tr>\n",
       "  </tbody>\n",
       "</table>\n",
       "</div>"
      ],
      "text/plain": [
       "                                 Open        High         Low       Close   \n",
       "Date                                                                        \n",
       "2023-04-10 00:00:00-04:00  289.209991  289.600006  284.709991  289.390015  \\\n",
       "2023-04-11 00:00:00-04:00  285.750000  285.980011  281.640015  282.829987   \n",
       "2023-04-12 00:00:00-04:00  284.790009  287.010010  281.959991  283.489990   \n",
       "2023-04-13 00:00:00-04:00  283.589996  289.899994  283.170013  289.839996   \n",
       "2023-04-14 00:00:00-04:00  287.000000  288.480011  283.690002  286.140015   \n",
       "\n",
       "                             Volume  Dividends  Stock Splits ticker  \n",
       "Date                                                                 \n",
       "2023-04-10 00:00:00-04:00  23103000        0.0           0.0   MSFT  \n",
       "2023-04-11 00:00:00-04:00  27276600        0.0           0.0   MSFT  \n",
       "2023-04-12 00:00:00-04:00  27403400        0.0           0.0   MSFT  \n",
       "2023-04-13 00:00:00-04:00  24222700        0.0           0.0   MSFT  \n",
       "2023-04-14 00:00:00-04:00  20973900        0.0           0.0   MSFT  "
      ]
     },
     "execution_count": 8,
     "metadata": {},
     "output_type": "execute_result"
    }
   ],
   "source": [
    "df_dict_raw = ingest_yahoo.extract()\n",
    "df_dict_raw['stock_history'].head(5)"
   ]
  },
  {
   "attachments": {},
   "cell_type": "markdown",
   "metadata": {},
   "source": [
    "In the transformation step, we reset the index to be ready for upload to GCP."
   ]
  },
  {
   "cell_type": "code",
   "execution_count": 9,
   "metadata": {},
   "outputs": [
    {
     "data": {
      "text/html": [
       "<div>\n",
       "<style scoped>\n",
       "    .dataframe tbody tr th:only-of-type {\n",
       "        vertical-align: middle;\n",
       "    }\n",
       "\n",
       "    .dataframe tbody tr th {\n",
       "        vertical-align: top;\n",
       "    }\n",
       "\n",
       "    .dataframe thead th {\n",
       "        text-align: right;\n",
       "    }\n",
       "</style>\n",
       "<table border=\"1\" class=\"dataframe\">\n",
       "  <thead>\n",
       "    <tr style=\"text-align: right;\">\n",
       "      <th></th>\n",
       "      <th>Date</th>\n",
       "      <th>Open</th>\n",
       "      <th>High</th>\n",
       "      <th>Low</th>\n",
       "      <th>Close</th>\n",
       "      <th>Volume</th>\n",
       "      <th>Dividends</th>\n",
       "      <th>Stock Splits</th>\n",
       "      <th>ticker</th>\n",
       "    </tr>\n",
       "  </thead>\n",
       "  <tbody>\n",
       "    <tr>\n",
       "      <th>0</th>\n",
       "      <td>2023-04-10 00:00:00-04:00</td>\n",
       "      <td>289.209991</td>\n",
       "      <td>289.600006</td>\n",
       "      <td>284.709991</td>\n",
       "      <td>289.390015</td>\n",
       "      <td>23103000</td>\n",
       "      <td>0.0</td>\n",
       "      <td>0.0</td>\n",
       "      <td>MSFT</td>\n",
       "    </tr>\n",
       "    <tr>\n",
       "      <th>1</th>\n",
       "      <td>2023-04-11 00:00:00-04:00</td>\n",
       "      <td>285.750000</td>\n",
       "      <td>285.980011</td>\n",
       "      <td>281.640015</td>\n",
       "      <td>282.829987</td>\n",
       "      <td>27276600</td>\n",
       "      <td>0.0</td>\n",
       "      <td>0.0</td>\n",
       "      <td>MSFT</td>\n",
       "    </tr>\n",
       "    <tr>\n",
       "      <th>2</th>\n",
       "      <td>2023-04-12 00:00:00-04:00</td>\n",
       "      <td>284.790009</td>\n",
       "      <td>287.010010</td>\n",
       "      <td>281.959991</td>\n",
       "      <td>283.489990</td>\n",
       "      <td>27403400</td>\n",
       "      <td>0.0</td>\n",
       "      <td>0.0</td>\n",
       "      <td>MSFT</td>\n",
       "    </tr>\n",
       "    <tr>\n",
       "      <th>3</th>\n",
       "      <td>2023-04-13 00:00:00-04:00</td>\n",
       "      <td>283.589996</td>\n",
       "      <td>289.899994</td>\n",
       "      <td>283.170013</td>\n",
       "      <td>289.839996</td>\n",
       "      <td>24222700</td>\n",
       "      <td>0.0</td>\n",
       "      <td>0.0</td>\n",
       "      <td>MSFT</td>\n",
       "    </tr>\n",
       "    <tr>\n",
       "      <th>4</th>\n",
       "      <td>2023-04-14 00:00:00-04:00</td>\n",
       "      <td>287.000000</td>\n",
       "      <td>288.480011</td>\n",
       "      <td>283.690002</td>\n",
       "      <td>286.140015</td>\n",
       "      <td>20973900</td>\n",
       "      <td>0.0</td>\n",
       "      <td>0.0</td>\n",
       "      <td>MSFT</td>\n",
       "    </tr>\n",
       "  </tbody>\n",
       "</table>\n",
       "</div>"
      ],
      "text/plain": [
       "                       Date        Open        High         Low       Close   \n",
       "0 2023-04-10 00:00:00-04:00  289.209991  289.600006  284.709991  289.390015  \\\n",
       "1 2023-04-11 00:00:00-04:00  285.750000  285.980011  281.640015  282.829987   \n",
       "2 2023-04-12 00:00:00-04:00  284.790009  287.010010  281.959991  283.489990   \n",
       "3 2023-04-13 00:00:00-04:00  283.589996  289.899994  283.170013  289.839996   \n",
       "4 2023-04-14 00:00:00-04:00  287.000000  288.480011  283.690002  286.140015   \n",
       "\n",
       "     Volume  Dividends  Stock Splits ticker  \n",
       "0  23103000        0.0           0.0   MSFT  \n",
       "1  27276600        0.0           0.0   MSFT  \n",
       "2  27403400        0.0           0.0   MSFT  \n",
       "3  24222700        0.0           0.0   MSFT  \n",
       "4  20973900        0.0           0.0   MSFT  "
      ]
     },
     "execution_count": 9,
     "metadata": {},
     "output_type": "execute_result"
    }
   ],
   "source": [
    "df_dict_transformed = ingest_yahoo.transform(df_dict_raw)\n",
    "df_dict_transformed['stock_history'].head(5)"
   ]
  },
  {
   "attachments": {},
   "cell_type": "markdown",
   "metadata": {},
   "source": [
    "## Test Run Method\n",
    "\n",
    "You must run the first and second setup steps first."
   ]
  },
  {
   "cell_type": "code",
   "execution_count": 4,
   "metadata": {},
   "outputs": [
    {
     "name": "stdout",
     "output_type": "stream",
     "text": [
      "Extracting data from endpoint: yfinance\n",
      "Loaded 15 rows and 9 columns to data-science-on-gcp-323609.yfinance_raw.stock_history\n"
     ]
    }
   ],
   "source": [
    "ingest_yahoo.run(env='dev')"
   ]
  }
 ],
 "metadata": {
  "kernelspec": {
   "display_name": "fpl-ingest",
   "language": "python",
   "name": "python3"
  },
  "language_info": {
   "codemirror_mode": {
    "name": "ipython",
    "version": 3
   },
   "file_extension": ".py",
   "mimetype": "text/x-python",
   "name": "python",
   "nbconvert_exporter": "python",
   "pygments_lexer": "ipython3",
   "version": "3.11.2"
  },
  "orig_nbformat": 4
 },
 "nbformat": 4,
 "nbformat_minor": 2
}
