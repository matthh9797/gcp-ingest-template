{
 "cells": [
  {
   "attachments": {},
   "cell_type": "markdown",
   "metadata": {},
   "source": [
    "# Ingest Data into GCP \n",
    "## Local Development Notebook"
   ]
  },
  {
   "cell_type": "code",
   "execution_count": 10,
   "metadata": {},
   "outputs": [],
   "source": [
    "import logging\n",
    "from datetime import date\n",
    "from pprint import pprint\n",
    "\n",
    "from utils.io import dict_from_yaml\n",
    "from source_a import IngestA\n",
    "\n",
    "logging.basicConfig(\n",
    "    level=logging.INFO,\n",
    "    format=\"%(asctime)s [%(levelname)s] %(message)s\",\n",
    "    handlers=[\n",
    "        logging.FileHandler(\"debug.log\"),\n",
    "        logging.StreamHandler()\n",
    "    ]\n",
    ")"
   ]
  },
  {
   "attachments": {},
   "cell_type": "markdown",
   "metadata": {},
   "source": [
    "### Run the Process Locally"
   ]
  },
  {
   "cell_type": "code",
   "execution_count": 4,
   "metadata": {},
   "outputs": [],
   "source": [
    "config = dict_from_yaml('source_a/config.yaml')\n",
    "extract_date = date.today().strftime(\"%Y%m%d\")\n",
    "overrides = {'run_type': 'dev', 'env': 'dev'}"
   ]
  },
  {
   "cell_type": "code",
   "execution_count": null,
   "metadata": {},
   "outputs": [],
   "source": [
    "\n",
    "ingest_a = IngestA(config, extract_date, overrides)\n",
    "ingest_a.run(config['env'])"
   ]
  },
  {
   "attachments": {},
   "cell_type": "markdown",
   "metadata": {},
   "source": [
    "### Check Config & Method Help"
   ]
  },
  {
   "cell_type": "code",
   "execution_count": 14,
   "metadata": {},
   "outputs": [
    {
     "data": {
      "text/plain": [
       "{'env': 'dev',\n",
       " 'api': {'baseurl': 'https://fantasy.premierleague.com/api/',\n",
       "  'suffix': 'bootstrap-static',\n",
       "  'tables': ['elements', 'element_types', 'teams']},\n",
       " 'bigquery': {'dest_dataset_id': 'fantasy_football_raw',\n",
       "  'key_file': 'data-science-on-gcp-323609-d6df605659c2.json'}}"
      ]
     },
     "execution_count": 14,
     "metadata": {},
     "output_type": "execute_result"
    }
   ],
   "source": [
    "pprint(ingest_a.config)"
   ]
  },
  {
   "cell_type": "code",
   "execution_count": 15,
   "metadata": {},
   "outputs": [
    {
     "name": "stdout",
     "output_type": "stream",
     "text": [
      "Help on method run in module ingest.base:\n",
      "\n",
      "run(config: dict, env: str) -> None method of ingest.ChildA instance\n",
      "    Ingestion process runner method to download, parse and upload api data into bigquery\n",
      "    @param config ingestion process configuration dictionary\n",
      "    @param env environment determines which authentication method is used for GCP\n",
      "\n"
     ]
    }
   ],
   "source": [
    "help(ingest_a.run)"
   ]
  }
 ],
 "metadata": {
  "kernelspec": {
   "display_name": "fpl-ingest",
   "language": "python",
   "name": "python3"
  },
  "language_info": {
   "codemirror_mode": {
    "name": "ipython",
    "version": 3
   },
   "file_extension": ".py",
   "mimetype": "text/x-python",
   "name": "python",
   "nbconvert_exporter": "python",
   "pygments_lexer": "ipython3",
   "version": "3.11.2"
  },
  "orig_nbformat": 4
 },
 "nbformat": 4,
 "nbformat_minor": 2
}
