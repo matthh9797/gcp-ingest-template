{
 "cells": [
  {
   "attachments": {},
   "cell_type": "markdown",
   "metadata": {},
   "source": [
    "# Ingest Data into GCP \n",
    "## Local Development Notebook"
   ]
  },
  {
   "cell_type": "code",
   "execution_count": 10,
   "metadata": {},
   "outputs": [],
   "source": [
    "from utils import dict_from_yaml\n",
    "from ingest import IngestYahoo"
   ]
  },
  {
   "attachments": {},
   "cell_type": "markdown",
   "metadata": {},
   "source": [
    "### Check out Api"
   ]
  },
  {
   "attachments": {},
   "cell_type": "markdown",
   "metadata": {},
   "source": [
    "### Run the Process Locally"
   ]
  },
  {
   "cell_type": "code",
   "execution_count": 11,
   "metadata": {},
   "outputs": [],
   "source": [
    "config = dict_from_yaml('config.yaml')\n",
    "ingest_yahoo = IngestYahoo(config)"
   ]
  },
  {
   "attachments": {},
   "cell_type": "markdown",
   "metadata": {},
   "source": [
    "### Check Config & Method Help"
   ]
  },
  {
   "cell_type": "code",
   "execution_count": 12,
   "metadata": {},
   "outputs": [
    {
     "data": {
      "text/plain": [
       "{'env': 'dev',\n",
       " 'api': {'name': 'yfinance',\n",
       "  'tables': {'stock_history': {'tickers': ['MSFT', 'GOOGL', 'AAPL'],\n",
       "    'period': '6mo'}}},\n",
       " 'gcp': {'key_file': 'data-science-on-gcp-323609-ec18149ed324.json',\n",
       "  'upload': {'dataset_id': 'yfinance_raw',\n",
       "   'bucketname': 'data-science-on-gcp-323609-yfinance-staging',\n",
       "   'schema_path': 'schemas/stock_history.json',\n",
       "   'partition_col': 'Date',\n",
       "   'partition_type': 'MONTH',\n",
       "   'window': 3,\n",
       "   'lag': 1,\n",
       "   'add_updated_at': True}}}"
      ]
     },
     "execution_count": 12,
     "metadata": {},
     "output_type": "execute_result"
    }
   ],
   "source": [
    "ingest_yahoo.config"
   ]
  },
  {
   "cell_type": "code",
   "execution_count": 13,
   "metadata": {},
   "outputs": [
    {
     "name": "stdout",
     "output_type": "stream",
     "text": [
      "Help on method run in module ingest.base:\n",
      "\n",
      "run(env: str, overrides: dict = None) -> None method of ingest.IngestYahoo instance\n",
      "    Ingestion process runner method to download, parse and upload api data into bigquery\n",
      "    @param env environment determines which authentication method is used for GCP\n",
      "    @param overrides overrides for default config, dict with same structure as config\n",
      "\n"
     ]
    }
   ],
   "source": [
    "help(ingest_yahoo.run)"
   ]
  },
  {
   "attachments": {},
   "cell_type": "markdown",
   "metadata": {},
   "source": [
    "Extracting the data creates a dictionary of dataframes with the raw format that is given by the api."
   ]
  },
  {
   "cell_type": "code",
   "execution_count": 14,
   "metadata": {},
   "outputs": [
    {
     "data": {
      "text/html": [
       "<div>\n",
       "<style scoped>\n",
       "    .dataframe tbody tr th:only-of-type {\n",
       "        vertical-align: middle;\n",
       "    }\n",
       "\n",
       "    .dataframe tbody tr th {\n",
       "        vertical-align: top;\n",
       "    }\n",
       "\n",
       "    .dataframe thead th {\n",
       "        text-align: right;\n",
       "    }\n",
       "</style>\n",
       "<table border=\"1\" class=\"dataframe\">\n",
       "  <thead>\n",
       "    <tr style=\"text-align: right;\">\n",
       "      <th></th>\n",
       "      <th>Open</th>\n",
       "      <th>High</th>\n",
       "      <th>Low</th>\n",
       "      <th>Close</th>\n",
       "      <th>Volume</th>\n",
       "      <th>Dividends</th>\n",
       "      <th>Stock Splits</th>\n",
       "      <th>ticker</th>\n",
       "    </tr>\n",
       "    <tr>\n",
       "      <th>Date</th>\n",
       "      <th></th>\n",
       "      <th></th>\n",
       "      <th></th>\n",
       "      <th></th>\n",
       "      <th></th>\n",
       "      <th></th>\n",
       "      <th></th>\n",
       "      <th></th>\n",
       "    </tr>\n",
       "  </thead>\n",
       "  <tbody>\n",
       "    <tr>\n",
       "      <th>2022-11-07 00:00:00-05:00</th>\n",
       "      <td>220.813095</td>\n",
       "      <td>227.199057</td>\n",
       "      <td>220.106852</td>\n",
       "      <td>226.661911</td>\n",
       "      <td>33498000</td>\n",
       "      <td>0.0</td>\n",
       "      <td>0.0</td>\n",
       "      <td>MSFT</td>\n",
       "    </tr>\n",
       "    <tr>\n",
       "      <th>2022-11-08 00:00:00-05:00</th>\n",
       "      <td>227.487519</td>\n",
       "      <td>230.421877</td>\n",
       "      <td>224.642681</td>\n",
       "      <td>227.656616</td>\n",
       "      <td>28192500</td>\n",
       "      <td>0.0</td>\n",
       "      <td>0.0</td>\n",
       "      <td>MSFT</td>\n",
       "    </tr>\n",
       "    <tr>\n",
       "      <th>2022-11-09 00:00:00-05:00</th>\n",
       "      <td>226.164555</td>\n",
       "      <td>227.417885</td>\n",
       "      <td>223.140679</td>\n",
       "      <td>223.319717</td>\n",
       "      <td>27852900</td>\n",
       "      <td>0.0</td>\n",
       "      <td>0.0</td>\n",
       "      <td>MSFT</td>\n",
       "    </tr>\n",
       "    <tr>\n",
       "      <th>2022-11-10 00:00:00-05:00</th>\n",
       "      <td>234.181827</td>\n",
       "      <td>242.039953</td>\n",
       "      <td>233.754114</td>\n",
       "      <td>241.691803</td>\n",
       "      <td>46268000</td>\n",
       "      <td>0.0</td>\n",
       "      <td>0.0</td>\n",
       "      <td>MSFT</td>\n",
       "    </tr>\n",
       "    <tr>\n",
       "      <th>2022-11-11 00:00:00-05:00</th>\n",
       "      <td>241.701744</td>\n",
       "      <td>246.675236</td>\n",
       "      <td>240.647351</td>\n",
       "      <td>245.799896</td>\n",
       "      <td>34620200</td>\n",
       "      <td>0.0</td>\n",
       "      <td>0.0</td>\n",
       "      <td>MSFT</td>\n",
       "    </tr>\n",
       "  </tbody>\n",
       "</table>\n",
       "</div>"
      ],
      "text/plain": [
       "                                 Open        High         Low       Close   \n",
       "Date                                                                        \n",
       "2022-11-07 00:00:00-05:00  220.813095  227.199057  220.106852  226.661911  \\\n",
       "2022-11-08 00:00:00-05:00  227.487519  230.421877  224.642681  227.656616   \n",
       "2022-11-09 00:00:00-05:00  226.164555  227.417885  223.140679  223.319717   \n",
       "2022-11-10 00:00:00-05:00  234.181827  242.039953  233.754114  241.691803   \n",
       "2022-11-11 00:00:00-05:00  241.701744  246.675236  240.647351  245.799896   \n",
       "\n",
       "                             Volume  Dividends  Stock Splits ticker  \n",
       "Date                                                                 \n",
       "2022-11-07 00:00:00-05:00  33498000        0.0           0.0   MSFT  \n",
       "2022-11-08 00:00:00-05:00  28192500        0.0           0.0   MSFT  \n",
       "2022-11-09 00:00:00-05:00  27852900        0.0           0.0   MSFT  \n",
       "2022-11-10 00:00:00-05:00  46268000        0.0           0.0   MSFT  \n",
       "2022-11-11 00:00:00-05:00  34620200        0.0           0.0   MSFT  "
      ]
     },
     "execution_count": 14,
     "metadata": {},
     "output_type": "execute_result"
    }
   ],
   "source": [
    "df_dict_raw = ingest_yahoo.extract()\n",
    "df_dict_raw['stock_history'].head(5)"
   ]
  },
  {
   "attachments": {},
   "cell_type": "markdown",
   "metadata": {},
   "source": [
    "In the transformation step, we reset the index to be ready for upload to GCP."
   ]
  },
  {
   "cell_type": "code",
   "execution_count": 15,
   "metadata": {},
   "outputs": [
    {
     "data": {
      "text/html": [
       "<div>\n",
       "<style scoped>\n",
       "    .dataframe tbody tr th:only-of-type {\n",
       "        vertical-align: middle;\n",
       "    }\n",
       "\n",
       "    .dataframe tbody tr th {\n",
       "        vertical-align: top;\n",
       "    }\n",
       "\n",
       "    .dataframe thead th {\n",
       "        text-align: right;\n",
       "    }\n",
       "</style>\n",
       "<table border=\"1\" class=\"dataframe\">\n",
       "  <thead>\n",
       "    <tr style=\"text-align: right;\">\n",
       "      <th></th>\n",
       "      <th>Date</th>\n",
       "      <th>Open</th>\n",
       "      <th>High</th>\n",
       "      <th>Low</th>\n",
       "      <th>Close</th>\n",
       "      <th>Volume</th>\n",
       "      <th>Dividends</th>\n",
       "      <th>Stock Splits</th>\n",
       "      <th>ticker</th>\n",
       "    </tr>\n",
       "  </thead>\n",
       "  <tbody>\n",
       "    <tr>\n",
       "      <th>0</th>\n",
       "      <td>2022-11-07 00:00:00-05:00</td>\n",
       "      <td>220.813095</td>\n",
       "      <td>227.199057</td>\n",
       "      <td>220.106852</td>\n",
       "      <td>226.661911</td>\n",
       "      <td>33498000</td>\n",
       "      <td>0.0</td>\n",
       "      <td>0.0</td>\n",
       "      <td>MSFT</td>\n",
       "    </tr>\n",
       "    <tr>\n",
       "      <th>1</th>\n",
       "      <td>2022-11-08 00:00:00-05:00</td>\n",
       "      <td>227.487519</td>\n",
       "      <td>230.421877</td>\n",
       "      <td>224.642681</td>\n",
       "      <td>227.656616</td>\n",
       "      <td>28192500</td>\n",
       "      <td>0.0</td>\n",
       "      <td>0.0</td>\n",
       "      <td>MSFT</td>\n",
       "    </tr>\n",
       "    <tr>\n",
       "      <th>2</th>\n",
       "      <td>2022-11-09 00:00:00-05:00</td>\n",
       "      <td>226.164555</td>\n",
       "      <td>227.417885</td>\n",
       "      <td>223.140679</td>\n",
       "      <td>223.319717</td>\n",
       "      <td>27852900</td>\n",
       "      <td>0.0</td>\n",
       "      <td>0.0</td>\n",
       "      <td>MSFT</td>\n",
       "    </tr>\n",
       "    <tr>\n",
       "      <th>3</th>\n",
       "      <td>2022-11-10 00:00:00-05:00</td>\n",
       "      <td>234.181827</td>\n",
       "      <td>242.039953</td>\n",
       "      <td>233.754114</td>\n",
       "      <td>241.691803</td>\n",
       "      <td>46268000</td>\n",
       "      <td>0.0</td>\n",
       "      <td>0.0</td>\n",
       "      <td>MSFT</td>\n",
       "    </tr>\n",
       "    <tr>\n",
       "      <th>4</th>\n",
       "      <td>2022-11-11 00:00:00-05:00</td>\n",
       "      <td>241.701744</td>\n",
       "      <td>246.675236</td>\n",
       "      <td>240.647351</td>\n",
       "      <td>245.799896</td>\n",
       "      <td>34620200</td>\n",
       "      <td>0.0</td>\n",
       "      <td>0.0</td>\n",
       "      <td>MSFT</td>\n",
       "    </tr>\n",
       "  </tbody>\n",
       "</table>\n",
       "</div>"
      ],
      "text/plain": [
       "                       Date        Open        High         Low       Close   \n",
       "0 2022-11-07 00:00:00-05:00  220.813095  227.199057  220.106852  226.661911  \\\n",
       "1 2022-11-08 00:00:00-05:00  227.487519  230.421877  224.642681  227.656616   \n",
       "2 2022-11-09 00:00:00-05:00  226.164555  227.417885  223.140679  223.319717   \n",
       "3 2022-11-10 00:00:00-05:00  234.181827  242.039953  233.754114  241.691803   \n",
       "4 2022-11-11 00:00:00-05:00  241.701744  246.675236  240.647351  245.799896   \n",
       "\n",
       "     Volume  Dividends  Stock Splits ticker  \n",
       "0  33498000        0.0           0.0   MSFT  \n",
       "1  28192500        0.0           0.0   MSFT  \n",
       "2  27852900        0.0           0.0   MSFT  \n",
       "3  46268000        0.0           0.0   MSFT  \n",
       "4  34620200        0.0           0.0   MSFT  "
      ]
     },
     "execution_count": 15,
     "metadata": {},
     "output_type": "execute_result"
    }
   ],
   "source": [
    "df_dict_transformed = ingest_yahoo.transform(df_dict_raw)\n",
    "df_dict_transformed['stock_history'].head(5)"
   ]
  },
  {
   "attachments": {},
   "cell_type": "markdown",
   "metadata": {},
   "source": [
    "## Test Run Method\n",
    "\n",
    "You must run the first and second setup steps first."
   ]
  },
  {
   "cell_type": "code",
   "execution_count": 16,
   "metadata": {},
   "outputs": [
    {
     "name": "stdout",
     "output_type": "stream",
     "text": [
      "Extracting data from endpoint: yfinance\n",
      "range: (2023-05-01 00:00:00, 2023-05-31 00:00:00)\n",
      "Uploading dataframe to gcslocation: gs://data-science-on-gcp-323609-yfinance-staging/20230507:stock_history$202305\n",
      "Uploading gcsfile from gs://data-science-on-gcp-323609-yfinance-staging/20230507:stock_history$202305 to bigquery table: yfinance_raw:stock_history$202305\n",
      "Uploading data from gs://data-science-on-gcp-323609-yfinance-staging/20230507:stock_history$202305 to table stock_history\n",
      "range: (2023-04-01 00:00:00, 2023-04-30 00:00:00)\n",
      "Uploading dataframe to gcslocation: gs://data-science-on-gcp-323609-yfinance-staging/20230507:stock_history$202304\n",
      "Uploading gcsfile from gs://data-science-on-gcp-323609-yfinance-staging/20230507:stock_history$202304 to bigquery table: yfinance_raw:stock_history$202304\n",
      "Uploading data from gs://data-science-on-gcp-323609-yfinance-staging/20230507:stock_history$202304 to table stock_history\n",
      "range: (2023-03-01 00:00:00, 2023-03-31 00:00:00)\n",
      "Uploading dataframe to gcslocation: gs://data-science-on-gcp-323609-yfinance-staging/20230507:stock_history$202303\n",
      "Uploading gcsfile from gs://data-science-on-gcp-323609-yfinance-staging/20230507:stock_history$202303 to bigquery table: yfinance_raw:stock_history$202303\n",
      "Uploading data from gs://data-science-on-gcp-323609-yfinance-staging/20230507:stock_history$202303 to table stock_history\n"
     ]
    }
   ],
   "source": [
    "ingest_yahoo.run(env='dev')"
   ]
  },
  {
   "attachments": {},
   "cell_type": "markdown",
   "metadata": {},
   "source": [
    "### Autodetect dataframe csv schema\n",
    "\n",
    "**This can be a useful step 1**\n",
    "\n",
    "Often when creating a production process for loading data into a bigquery table, you will need to determine the table schema. This functionality allows you to upload 100 rows of your dataframe into a temporary bigquery table, write the schema to a json file and then clean up by dropping the temporary table. This autodetected schema can then be used as a starting point for your schema. This is especially helpful when your table has lots of columns of data."
   ]
  },
  {
   "cell_type": "code",
   "execution_count": 3,
   "metadata": {},
   "outputs": [
    {
     "data": {
      "text/plain": [
       "{'env': 'dev',\n",
       " 'api': {'name': 'yfinance',\n",
       "  'tables': {'stock_history': {'tickers': ['MSFT', 'GOOGL', 'AAPL'],\n",
       "    'period': 'max'}}},\n",
       " 'gcp': {'key_file': 'data-science-on-gcp-323609-ec18149ed324.json',\n",
       "  'upload': {'dataset_id': 'yfinance_raw',\n",
       "   'bucketname': 'data-science-on-gcp-323609-yfinance-staging',\n",
       "   'schema_path': 'schemas/stock_history.json',\n",
       "   'partition_col': 'Date',\n",
       "   'partition_type': 'MONTH',\n",
       "   'window': 3,\n",
       "   'lag': 1,\n",
       "   'add_updated_at': True,\n",
       "   'autodetect_mode': True}}}"
      ]
     },
     "execution_count": 3,
     "metadata": {},
     "output_type": "execute_result"
    }
   ],
   "source": [
    "ingest_yahoo.config['api']['tables']['stock_history']['period'] = 'max' \n",
    "ingest_yahoo.config['gcp']['upload']['autodetect_mode'] = True \n",
    "ingest_yahoo.config"
   ]
  },
  {
   "cell_type": "code",
   "execution_count": 4,
   "metadata": {},
   "outputs": [
    {
     "name": "stdout",
     "output_type": "stream",
     "text": [
      "Extracting data from endpoint: yfinance\n",
      "Filtering first 100 rows of dataframe to autodetect schema\n",
      "Uploading dataframe to bucket: gs://data-science-on-gcp-323609-yfinance-staging\n",
      "Uploading gcsfile from gs://data-science-on-gcp-323609-yfinance-staging/20230507:TEMP_AD_stock_history to bigquery table: yfinance_raw:TEMP_AD_stock_history\n",
      "Uploading data from gs://data-science-on-gcp-323609-yfinance-staging/20230507:TEMP_AD_stock_history to table TEMP_AD_stock_history\n",
      "Dropping table used for autodetect TEMP_AD_stock_history\n"
     ]
    }
   ],
   "source": [
    "ingest_yahoo.run(env='dev')"
   ]
  },
  {
   "attachments": {},
   "cell_type": "markdown",
   "metadata": {},
   "source": [
    "### Override default config\n",
    "\n",
    "**This can be a useful step 2**\n",
    "\n",
    "Useful when you would like to do a manual full load (Usually, you will do this before scheduling uploads). The reason to have this as an argument is so you can send the payload to the cloud run service. `overrides` must have the same structure as your config.yaml."
   ]
  },
  {
   "cell_type": "code",
   "execution_count": 8,
   "metadata": {},
   "outputs": [],
   "source": [
    "config = dict_from_yaml('config.yaml')\n",
    "ingest_yahoo = IngestYahoo(config)\n",
    "\n",
    "# One of full load using max stock data, set window to None\n",
    "overrides = {\n",
    "    'api': {\n",
    "        'tables': {\n",
    "            'stock_history':\n",
    "                {'period': 'max'}\n",
    "            }\n",
    "    },\n",
    "    'gcp': {\n",
    "        'upload': {\n",
    "            'window': None\n",
    "        }\n",
    "    }\n",
    "}"
   ]
  },
  {
   "cell_type": "code",
   "execution_count": 9,
   "metadata": {},
   "outputs": [
    {
     "name": "stdout",
     "output_type": "stream",
     "text": [
      "Overriding default config\n",
      "Extracting data from endpoint: yfinance\n",
      "Uploading dataframe to bucket: gs://data-science-on-gcp-323609-yfinance-staging\n",
      "Uploading gcsfile from gs://data-science-on-gcp-323609-yfinance-staging/20230507:stock_history to bigquery table: yfinance_raw:stock_history\n",
      "Uploading data from gs://data-science-on-gcp-323609-yfinance-staging/20230507:stock_history to table stock_history\n"
     ]
    }
   ],
   "source": [
    "ingest_yahoo.run(env='dev', overrides=overrides)"
   ]
  }
 ],
 "metadata": {
  "kernelspec": {
   "display_name": "fpl-ingest",
   "language": "python",
   "name": "python3"
  },
  "language_info": {
   "codemirror_mode": {
    "name": "ipython",
    "version": 3
   },
   "file_extension": ".py",
   "mimetype": "text/x-python",
   "name": "python",
   "nbconvert_exporter": "python",
   "pygments_lexer": "ipython3",
   "version": "3.11.2"
  },
  "orig_nbformat": 4
 },
 "nbformat": 4,
 "nbformat_minor": 2
}
