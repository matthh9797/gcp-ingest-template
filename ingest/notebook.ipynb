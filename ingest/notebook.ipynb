{
 "cells": [
  {
   "attachments": {},
   "cell_type": "markdown",
   "metadata": {},
   "source": [
    "# Ingest Fantasy Premier League Data into GCP \n",
    "\n",
    "This is a notebook for developing etl code for ingesting data from the fantasy.premierleague API into GCP. This API makes available some great free Premier League data related to the Fantasy Football Premier League game. In this notebook, I will go through the process of first steps before scheduling daily updates for certain tables."
   ]
  },
  {
   "attachments": {},
   "cell_type": "markdown",
   "metadata": {},
   "source": [
    "### Run the Process Locally\n",
    "\n",
    "Test your code for downloading the data from the API within your notebook."
   ]
  },
  {
   "cell_type": "code",
   "execution_count": 1,
   "metadata": {},
   "outputs": [],
   "source": [
    "from utils.io import dict_from_yaml\n",
    "from ingest import IngestFpl"
   ]
  },
  {
   "cell_type": "code",
   "execution_count": 2,
   "metadata": {},
   "outputs": [],
   "source": [
    "config = dict_from_yaml('config.yaml')\n",
    "ingest_fpl = IngestFpl(config)"
   ]
  },
  {
   "attachments": {},
   "cell_type": "markdown",
   "metadata": {},
   "source": [
    "### Check Config & Method Help"
   ]
  },
  {
   "cell_type": "code",
   "execution_count": 16,
   "metadata": {},
   "outputs": [
    {
     "data": {
      "text/plain": [
       "{'env': 'dev',\n",
       " 'api': {'baseurl': 'https://fantasy.premierleague.com/api',\n",
       "  'endpoints': [{'name': 'bootstrap-static', 'tables': ['elements']},\n",
       "   {'name': 'fixtures'}]},\n",
       " 'gcp': {'key_file': 'data-science-on-gcp-323609-78642d80c4ac.json',\n",
       "  'upload': {'dataset_id': 'fpl_raw',\n",
       "   'bucketname': 'fpl-staging',\n",
       "   'tables': {'fixtures': {'file_type': 'json'}}}}}"
      ]
     },
     "execution_count": 16,
     "metadata": {},
     "output_type": "execute_result"
    }
   ],
   "source": [
    "ingest_fpl.config"
   ]
  },
  {
   "cell_type": "code",
   "execution_count": 6,
   "metadata": {},
   "outputs": [
    {
     "name": "stdout",
     "output_type": "stream",
     "text": [
      "Help on method run in module ingest.base:\n",
      "\n",
      "run(env: str, overrides: dict = None) -> None method of ingest.IngestFpl instance\n",
      "    Ingestion process runner method to download, parse and upload api data into bigquery\n",
      "    @param env environment determines which authentication method is used for GCP\n",
      "    @param overrides overrides for default config, dict with same structure as config\n",
      "\n"
     ]
    }
   ],
   "source": [
    "help(ingest_fpl.run)"
   ]
  },
  {
   "cell_type": "code",
   "execution_count": 4,
   "metadata": {},
   "outputs": [
    {
     "name": "stdout",
     "output_type": "stream",
     "text": [
      "Downloading data from endpoint: https://fantasy.premierleague.com/api/bootstrap-static/\n",
      "Downloading data from endpoint: https://fantasy.premierleague.com/api/fixtures/\n"
     ]
    }
   ],
   "source": [
    "df_dict_raw = ingest_fpl.extract()"
   ]
  },
  {
   "cell_type": "code",
   "execution_count": 10,
   "metadata": {},
   "outputs": [
    {
     "data": {
      "text/plain": [
       "dict_keys(['elements', 'fixtures'])"
      ]
     },
     "execution_count": 10,
     "metadata": {},
     "output_type": "execute_result"
    }
   ],
   "source": [
    "df_dict_raw.keys()"
   ]
  },
  {
   "cell_type": "code",
   "execution_count": 5,
   "metadata": {},
   "outputs": [
    {
     "data": {
      "text/html": [
       "<div>\n",
       "<style scoped>\n",
       "    .dataframe tbody tr th:only-of-type {\n",
       "        vertical-align: middle;\n",
       "    }\n",
       "\n",
       "    .dataframe tbody tr th {\n",
       "        vertical-align: top;\n",
       "    }\n",
       "\n",
       "    .dataframe thead th {\n",
       "        text-align: right;\n",
       "    }\n",
       "</style>\n",
       "<table border=\"1\" class=\"dataframe\">\n",
       "  <thead>\n",
       "    <tr style=\"text-align: right;\">\n",
       "      <th></th>\n",
       "      <th>code</th>\n",
       "      <th>event</th>\n",
       "      <th>finished</th>\n",
       "      <th>finished_provisional</th>\n",
       "      <th>id</th>\n",
       "      <th>kickoff_time</th>\n",
       "      <th>minutes</th>\n",
       "      <th>provisional_start_time</th>\n",
       "      <th>started</th>\n",
       "      <th>team_a</th>\n",
       "      <th>team_a_score</th>\n",
       "      <th>team_h</th>\n",
       "      <th>team_h_score</th>\n",
       "      <th>stats</th>\n",
       "      <th>team_h_difficulty</th>\n",
       "      <th>team_a_difficulty</th>\n",
       "      <th>pulse_id</th>\n",
       "    </tr>\n",
       "  </thead>\n",
       "  <tbody>\n",
       "    <tr>\n",
       "      <th>0</th>\n",
       "      <td>2292810</td>\n",
       "      <td>1</td>\n",
       "      <td>True</td>\n",
       "      <td>True</td>\n",
       "      <td>1</td>\n",
       "      <td>2022-08-05T19:00:00Z</td>\n",
       "      <td>90</td>\n",
       "      <td>False</td>\n",
       "      <td>True</td>\n",
       "      <td>1</td>\n",
       "      <td>2.0</td>\n",
       "      <td>7</td>\n",
       "      <td>0.0</td>\n",
       "      <td>[{'identifier': 'goals_scored', 'a': [{'value'...</td>\n",
       "      <td>4</td>\n",
       "      <td>2</td>\n",
       "      <td>74911</td>\n",
       "    </tr>\n",
       "    <tr>\n",
       "      <th>1</th>\n",
       "      <td>2292813</td>\n",
       "      <td>1</td>\n",
       "      <td>True</td>\n",
       "      <td>True</td>\n",
       "      <td>4</td>\n",
       "      <td>2022-08-06T11:30:00Z</td>\n",
       "      <td>90</td>\n",
       "      <td>False</td>\n",
       "      <td>True</td>\n",
       "      <td>12</td>\n",
       "      <td>2.0</td>\n",
       "      <td>9</td>\n",
       "      <td>2.0</td>\n",
       "      <td>[{'identifier': 'goals_scored', 'a': [{'value'...</td>\n",
       "      <td>4</td>\n",
       "      <td>2</td>\n",
       "      <td>74914</td>\n",
       "    </tr>\n",
       "    <tr>\n",
       "      <th>2</th>\n",
       "      <td>2292811</td>\n",
       "      <td>1</td>\n",
       "      <td>True</td>\n",
       "      <td>True</td>\n",
       "      <td>2</td>\n",
       "      <td>2022-08-06T14:00:00Z</td>\n",
       "      <td>90</td>\n",
       "      <td>False</td>\n",
       "      <td>True</td>\n",
       "      <td>2</td>\n",
       "      <td>0.0</td>\n",
       "      <td>3</td>\n",
       "      <td>2.0</td>\n",
       "      <td>[{'identifier': 'goals_scored', 'a': [], 'h': ...</td>\n",
       "      <td>2</td>\n",
       "      <td>2</td>\n",
       "      <td>74912</td>\n",
       "    </tr>\n",
       "    <tr>\n",
       "      <th>3</th>\n",
       "      <td>2292814</td>\n",
       "      <td>1</td>\n",
       "      <td>True</td>\n",
       "      <td>True</td>\n",
       "      <td>5</td>\n",
       "      <td>2022-08-06T14:00:00Z</td>\n",
       "      <td>90</td>\n",
       "      <td>False</td>\n",
       "      <td>True</td>\n",
       "      <td>20</td>\n",
       "      <td>1.0</td>\n",
       "      <td>11</td>\n",
       "      <td>2.0</td>\n",
       "      <td>[{'identifier': 'goals_scored', 'a': [{'value'...</td>\n",
       "      <td>2</td>\n",
       "      <td>2</td>\n",
       "      <td>74915</td>\n",
       "    </tr>\n",
       "    <tr>\n",
       "      <th>4</th>\n",
       "      <td>2292816</td>\n",
       "      <td>1</td>\n",
       "      <td>True</td>\n",
       "      <td>True</td>\n",
       "      <td>7</td>\n",
       "      <td>2022-08-06T14:00:00Z</td>\n",
       "      <td>90</td>\n",
       "      <td>False</td>\n",
       "      <td>True</td>\n",
       "      <td>16</td>\n",
       "      <td>0.0</td>\n",
       "      <td>15</td>\n",
       "      <td>2.0</td>\n",
       "      <td>[{'identifier': 'goals_scored', 'a': [], 'h': ...</td>\n",
       "      <td>2</td>\n",
       "      <td>4</td>\n",
       "      <td>74917</td>\n",
       "    </tr>\n",
       "  </tbody>\n",
       "</table>\n",
       "</div>"
      ],
      "text/plain": [
       "      code  event  finished  finished_provisional  id          kickoff_time   \n",
       "0  2292810      1      True                  True   1  2022-08-05T19:00:00Z  \\\n",
       "1  2292813      1      True                  True   4  2022-08-06T11:30:00Z   \n",
       "2  2292811      1      True                  True   2  2022-08-06T14:00:00Z   \n",
       "3  2292814      1      True                  True   5  2022-08-06T14:00:00Z   \n",
       "4  2292816      1      True                  True   7  2022-08-06T14:00:00Z   \n",
       "\n",
       "   minutes  provisional_start_time  started  team_a  team_a_score  team_h   \n",
       "0       90                   False     True       1           2.0       7  \\\n",
       "1       90                   False     True      12           2.0       9   \n",
       "2       90                   False     True       2           0.0       3   \n",
       "3       90                   False     True      20           1.0      11   \n",
       "4       90                   False     True      16           0.0      15   \n",
       "\n",
       "   team_h_score                                              stats   \n",
       "0           0.0  [{'identifier': 'goals_scored', 'a': [{'value'...  \\\n",
       "1           2.0  [{'identifier': 'goals_scored', 'a': [{'value'...   \n",
       "2           2.0  [{'identifier': 'goals_scored', 'a': [], 'h': ...   \n",
       "3           2.0  [{'identifier': 'goals_scored', 'a': [{'value'...   \n",
       "4           2.0  [{'identifier': 'goals_scored', 'a': [], 'h': ...   \n",
       "\n",
       "   team_h_difficulty  team_a_difficulty  pulse_id  \n",
       "0                  4                  2     74911  \n",
       "1                  4                  2     74914  \n",
       "2                  2                  2     74912  \n",
       "3                  2                  2     74915  \n",
       "4                  2                  4     74917  "
      ]
     },
     "execution_count": 5,
     "metadata": {},
     "output_type": "execute_result"
    }
   ],
   "source": [
    "df_dict_raw['fixtures'].head()"
   ]
  },
  {
   "cell_type": "code",
   "execution_count": 5,
   "metadata": {},
   "outputs": [
    {
     "data": {
      "text/html": [
       "<div>\n",
       "<style scoped>\n",
       "    .dataframe tbody tr th:only-of-type {\n",
       "        vertical-align: middle;\n",
       "    }\n",
       "\n",
       "    .dataframe tbody tr th {\n",
       "        vertical-align: top;\n",
       "    }\n",
       "\n",
       "    .dataframe thead th {\n",
       "        text-align: right;\n",
       "    }\n",
       "</style>\n",
       "<table border=\"1\" class=\"dataframe\">\n",
       "  <thead>\n",
       "    <tr style=\"text-align: right;\">\n",
       "      <th></th>\n",
       "      <th>chance_of_playing_next_round</th>\n",
       "      <th>chance_of_playing_this_round</th>\n",
       "      <th>code</th>\n",
       "      <th>cost_change_event</th>\n",
       "      <th>cost_change_event_fall</th>\n",
       "      <th>cost_change_start</th>\n",
       "      <th>cost_change_start_fall</th>\n",
       "      <th>dreamteam_count</th>\n",
       "      <th>element_type</th>\n",
       "      <th>ep_next</th>\n",
       "      <th>...</th>\n",
       "      <th>now_cost_rank</th>\n",
       "      <th>now_cost_rank_type</th>\n",
       "      <th>form_rank</th>\n",
       "      <th>form_rank_type</th>\n",
       "      <th>points_per_game_rank</th>\n",
       "      <th>points_per_game_rank_type</th>\n",
       "      <th>selected_rank</th>\n",
       "      <th>selected_rank_type</th>\n",
       "      <th>starts_per_90</th>\n",
       "      <th>clean_sheets_per_90</th>\n",
       "    </tr>\n",
       "  </thead>\n",
       "  <tbody>\n",
       "    <tr>\n",
       "      <th>0</th>\n",
       "      <td>100.0</td>\n",
       "      <td>100.0</td>\n",
       "      <td>84450</td>\n",
       "      <td>0</td>\n",
       "      <td>0</td>\n",
       "      <td>-2</td>\n",
       "      <td>2</td>\n",
       "      <td>1</td>\n",
       "      <td>3</td>\n",
       "      <td>4.3</td>\n",
       "      <td>...</td>\n",
       "      <td>265</td>\n",
       "      <td>157</td>\n",
       "      <td>62</td>\n",
       "      <td>32</td>\n",
       "      <td>54</td>\n",
       "      <td>25</td>\n",
       "      <td>120</td>\n",
       "      <td>41</td>\n",
       "      <td>1.06</td>\n",
       "      <td>0.39</td>\n",
       "    </tr>\n",
       "    <tr>\n",
       "      <th>1</th>\n",
       "      <td>0.0</td>\n",
       "      <td>0.0</td>\n",
       "      <td>153256</td>\n",
       "      <td>0</td>\n",
       "      <td>0</td>\n",
       "      <td>-4</td>\n",
       "      <td>4</td>\n",
       "      <td>1</td>\n",
       "      <td>3</td>\n",
       "      <td>0.0</td>\n",
       "      <td>...</td>\n",
       "      <td>627</td>\n",
       "      <td>327</td>\n",
       "      <td>507</td>\n",
       "      <td>184</td>\n",
       "      <td>442</td>\n",
       "      <td>193</td>\n",
       "      <td>249</td>\n",
       "      <td>80</td>\n",
       "      <td>0.81</td>\n",
       "      <td>0.00</td>\n",
       "    </tr>\n",
       "    <tr>\n",
       "      <th>2</th>\n",
       "      <td>NaN</td>\n",
       "      <td>NaN</td>\n",
       "      <td>156074</td>\n",
       "      <td>0</td>\n",
       "      <td>0</td>\n",
       "      <td>-3</td>\n",
       "      <td>3</td>\n",
       "      <td>0</td>\n",
       "      <td>2</td>\n",
       "      <td>2.3</td>\n",
       "      <td>...</td>\n",
       "      <td>592</td>\n",
       "      <td>163</td>\n",
       "      <td>185</td>\n",
       "      <td>49</td>\n",
       "      <td>398</td>\n",
       "      <td>141</td>\n",
       "      <td>366</td>\n",
       "      <td>138</td>\n",
       "      <td>0.96</td>\n",
       "      <td>0.00</td>\n",
       "    </tr>\n",
       "    <tr>\n",
       "      <th>3</th>\n",
       "      <td>100.0</td>\n",
       "      <td>100.0</td>\n",
       "      <td>167199</td>\n",
       "      <td>0</td>\n",
       "      <td>0</td>\n",
       "      <td>-3</td>\n",
       "      <td>3</td>\n",
       "      <td>0</td>\n",
       "      <td>3</td>\n",
       "      <td>1.7</td>\n",
       "      <td>...</td>\n",
       "      <td>311</td>\n",
       "      <td>186</td>\n",
       "      <td>251</td>\n",
       "      <td>120</td>\n",
       "      <td>199</td>\n",
       "      <td>78</td>\n",
       "      <td>277</td>\n",
       "      <td>92</td>\n",
       "      <td>1.03</td>\n",
       "      <td>0.40</td>\n",
       "    </tr>\n",
       "    <tr>\n",
       "      <th>4</th>\n",
       "      <td>100.0</td>\n",
       "      <td>100.0</td>\n",
       "      <td>184029</td>\n",
       "      <td>1</td>\n",
       "      <td>-1</td>\n",
       "      <td>2</td>\n",
       "      <td>-2</td>\n",
       "      <td>5</td>\n",
       "      <td>3</td>\n",
       "      <td>9.3</td>\n",
       "      <td>...</td>\n",
       "      <td>46</td>\n",
       "      <td>23</td>\n",
       "      <td>2</td>\n",
       "      <td>2</td>\n",
       "      <td>7</td>\n",
       "      <td>2</td>\n",
       "      <td>9</td>\n",
       "      <td>5</td>\n",
       "      <td>1.06</td>\n",
       "      <td>0.37</td>\n",
       "    </tr>\n",
       "  </tbody>\n",
       "</table>\n",
       "<p>5 rows × 88 columns</p>\n",
       "</div>"
      ],
      "text/plain": [
       "   chance_of_playing_next_round  chance_of_playing_this_round    code   \n",
       "0                         100.0                         100.0   84450  \\\n",
       "1                           0.0                           0.0  153256   \n",
       "2                           NaN                           NaN  156074   \n",
       "3                         100.0                         100.0  167199   \n",
       "4                         100.0                         100.0  184029   \n",
       "\n",
       "   cost_change_event  cost_change_event_fall  cost_change_start   \n",
       "0                  0                       0                 -2  \\\n",
       "1                  0                       0                 -4   \n",
       "2                  0                       0                 -3   \n",
       "3                  0                       0                 -3   \n",
       "4                  1                      -1                  2   \n",
       "\n",
       "   cost_change_start_fall  dreamteam_count  element_type ep_next  ...   \n",
       "0                       2                1             3     4.3  ...  \\\n",
       "1                       4                1             3     0.0  ...   \n",
       "2                       3                0             2     2.3  ...   \n",
       "3                       3                0             3     1.7  ...   \n",
       "4                      -2                5             3     9.3  ...   \n",
       "\n",
       "  now_cost_rank  now_cost_rank_type form_rank form_rank_type   \n",
       "0           265                 157        62             32  \\\n",
       "1           627                 327       507            184   \n",
       "2           592                 163       185             49   \n",
       "3           311                 186       251            120   \n",
       "4            46                  23         2              2   \n",
       "\n",
       "   points_per_game_rank  points_per_game_rank_type selected_rank   \n",
       "0                    54                         25           120  \\\n",
       "1                   442                        193           249   \n",
       "2                   398                        141           366   \n",
       "3                   199                         78           277   \n",
       "4                     7                          2             9   \n",
       "\n",
       "  selected_rank_type  starts_per_90 clean_sheets_per_90  \n",
       "0                 41           1.06                0.39  \n",
       "1                 80           0.81                0.00  \n",
       "2                138           0.96                0.00  \n",
       "3                 92           1.03                0.40  \n",
       "4                  5           1.06                0.37  \n",
       "\n",
       "[5 rows x 88 columns]"
      ]
     },
     "execution_count": 5,
     "metadata": {},
     "output_type": "execute_result"
    }
   ],
   "source": [
    "df_dict_raw['elements'].head()"
   ]
  },
  {
   "attachments": {},
   "cell_type": "markdown",
   "metadata": {},
   "source": [
    "# Override Default Tables \n",
    "\n",
    "Some of the tables available from the Fantasy Football api do not change week on week, therefore batch loading is not required. For these tables we will override the default config and upload once to bigquery. Set autodetect mode to true to autodetect the schema. Then run a one-off full load of all tables.\n",
    "\n",
    "[**Note:** The run step requires authentication setup with a service key in your config file, follow the readme for more details]"
   ]
  },
  {
   "cell_type": "code",
   "execution_count": 10,
   "metadata": {},
   "outputs": [],
   "source": [
    "overrides = {\n",
    "    'api': {\n",
    "        'endpoints': [\n",
    "            {'name': 'bootstrap-static',\n",
    "            'tables': ['elements', 'element_types', 'teams']},\n",
    "            {'name': 'fixtures'}\n",
    "        ]\n",
    "    },\n",
    "    'gcp': {\n",
    "        'upload': {\n",
    "            'autodetect_mode': True\n",
    "        }\n",
    "    }\n",
    "}"
   ]
  },
  {
   "cell_type": "code",
   "execution_count": 11,
   "metadata": {},
   "outputs": [
    {
     "name": "stdout",
     "output_type": "stream",
     "text": [
      "Overriding default config\n",
      "Extracting data from api: https://fantasy.premierleague.com/api\n",
      "Downloading data from endpoint: https://fantasy.premierleague.com/api/fixtures/\n",
      "Uploading table: fixtures, without schema. No schema found at: schemas/fixtures.json\n",
      "Filtering first 100 rows of dataframe to autodetect schema\n",
      "Uploading dataframe to bucket: gs://fpl-staging\n",
      "Uploading gcsfile from gs://fpl-staging/20230511:TEMP_AD_fixtures to bigquery table: fpl_raw:TEMP_AD_fixtures\n",
      "Uploading data from gs://fpl-staging/20230511:TEMP_AD_fixtures to table TEMP_AD_fixtures\n",
      "Dropping table used for autodetect TEMP_AD_fixtures\n"
     ]
    }
   ],
   "source": [
    "ingest_fpl.run(env='dev', overrides=overrides)"
   ]
  },
  {
   "attachments": {},
   "cell_type": "markdown",
   "metadata": {},
   "source": [
    "## Run One-Off Load with Full Dataset\n",
    "\n",
    "After making relevant changes to schema files, make a one-off load of the full datasets of all tables you would like to ingest. I have  included the element_types and teams tables for a one-off load, these tables do not require daily updates since they do not change throughout the season."
   ]
  },
  {
   "cell_type": "code",
   "execution_count": 3,
   "metadata": {},
   "outputs": [],
   "source": [
    "overrides = {\n",
    "    'api': {\n",
    "        'endpoints': [\n",
    "            {'name': 'bootstrap-static',\n",
    "            'tables': ['elements', 'element_types', 'teams']},\n",
    "            {'name': 'fixtures'}\n",
    "        ]\n",
    "    }\n",
    "}"
   ]
  },
  {
   "cell_type": "code",
   "execution_count": 4,
   "metadata": {},
   "outputs": [
    {
     "name": "stdout",
     "output_type": "stream",
     "text": [
      "Overriding default config\n",
      "Extracting data from api: https://fantasy.premierleague.com/api\n",
      "Downloading data from endpoint: https://fantasy.premierleague.com/api/bootstrap-static/\n",
      "Downloading data from endpoint: https://fantasy.premierleague.com/api/fixtures/\n",
      "Uploading table: elements, with schema found at: schemas/elements.json\n",
      "Uploading dataframe to bucket: gs://fpl-staging\n",
      "Uploading gcsfile from gs://fpl-staging/20230511:elements to bigquery table: fpl_raw:elements\n",
      "Uploading data from gs://fpl-staging/20230511:elements to table elements\n",
      "Uploading table: element_types, with schema found at: schemas/element_types.json\n",
      "Uploading dataframe to bucket: gs://fpl-staging\n",
      "Uploading gcsfile from gs://fpl-staging/20230511:element_types to bigquery table: fpl_raw:element_types\n",
      "Uploading data from gs://fpl-staging/20230511:element_types to table element_types\n",
      "Uploading table: teams, with schema found at: schemas/teams.json\n",
      "Uploading dataframe to bucket: gs://fpl-staging\n",
      "Uploading gcsfile from gs://fpl-staging/20230511:teams to bigquery table: fpl_raw:teams\n",
      "Uploading data from gs://fpl-staging/20230511:teams to table teams\n",
      "Uploading table: fixtures, with schema found at: schemas/fixtures.json\n",
      "Uploading dataframe to bucket: gs://fpl-staging\n",
      "Uploading gcsfile from gs://fpl-staging/20230511:fixtures to bigquery table: fpl_raw:fixtures\n",
      "Uploading data from gs://fpl-staging/20230511:fixtures to table fixtures\n"
     ]
    }
   ],
   "source": [
    "ingest_fpl.run(env='dev', overrides=overrides)"
   ]
  },
  {
   "attachments": {},
   "cell_type": "markdown",
   "metadata": {},
   "source": [
    "## Test Regular Update Process\n",
    "\n",
    "This is the function which will run daily, test it works locally first, then you are ready to schedule daily updates."
   ]
  },
  {
   "cell_type": "code",
   "execution_count": 5,
   "metadata": {},
   "outputs": [
    {
     "name": "stdout",
     "output_type": "stream",
     "text": [
      "Extracting data from api: https://fantasy.premierleague.com/api\n",
      "Downloading data from endpoint: https://fantasy.premierleague.com/api/bootstrap-static/\n",
      "Downloading data from endpoint: https://fantasy.premierleague.com/api/fixtures/\n",
      "Uploading table: elements, with schema found at: schemas/elements.json\n",
      "Uploading dataframe to bucket: gs://fpl-staging\n",
      "Uploading gcsfile from gs://fpl-staging/20230511:elements to bigquery table: fpl_raw:elements\n",
      "Uploading data from gs://fpl-staging/20230511:elements to table elements\n",
      "Uploading table: element_types, with schema found at: schemas/element_types.json\n",
      "Uploading dataframe to bucket: gs://fpl-staging\n",
      "Uploading gcsfile from gs://fpl-staging/20230511:element_types to bigquery table: fpl_raw:element_types\n",
      "Uploading data from gs://fpl-staging/20230511:element_types to table element_types\n",
      "Uploading table: teams, with schema found at: schemas/teams.json\n",
      "Uploading dataframe to bucket: gs://fpl-staging\n",
      "Uploading gcsfile from gs://fpl-staging/20230511:teams to bigquery table: fpl_raw:teams\n",
      "Uploading data from gs://fpl-staging/20230511:teams to table teams\n",
      "Uploading table: fixtures, with schema found at: schemas/fixtures.json\n",
      "Uploading dataframe to bucket: gs://fpl-staging\n",
      "Uploading gcsfile from gs://fpl-staging/20230511:fixtures to bigquery table: fpl_raw:fixtures\n",
      "Uploading data from gs://fpl-staging/20230511:fixtures to table fixtures\n"
     ]
    }
   ],
   "source": [
    "ingest_fpl.run(env = 'dev')"
   ]
  }
 ],
 "metadata": {
  "kernelspec": {
   "display_name": "fpl-ingest",
   "language": "python",
   "name": "python3"
  },
  "language_info": {
   "codemirror_mode": {
    "name": "ipython",
    "version": 3
   },
   "file_extension": ".py",
   "mimetype": "text/x-python",
   "name": "python",
   "nbconvert_exporter": "python",
   "pygments_lexer": "ipython3",
   "version": "3.11.2"
  },
  "orig_nbformat": 4
 },
 "nbformat": 4,
 "nbformat_minor": 2
}
